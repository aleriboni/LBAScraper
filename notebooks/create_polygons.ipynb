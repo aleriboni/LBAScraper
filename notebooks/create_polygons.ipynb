{
 "cells": [
  {
   "cell_type": "markdown",
   "metadata": {},
   "source": [
    "Questo notebook crea dei poligoni come sequenze di punti che segmentano il campo da basket.\n",
    "I settori sono 9"
   ]
  },
  {
   "cell_type": "code",
   "execution_count": 1,
   "metadata": {},
   "outputs": [],
   "source": [
    "import math\n",
    "import pandas as pd\n",
    "\n",
    "NUM_PUNTI = 2000\n",
    "CENTRO_X, CENTRO_Y = 750, 157.5\n",
    "\n",
    "def retrieve_points(radius, min_angle, max_angle, greater_limits=[], lower_limits=[]):\n",
    "\n",
    "    points = []\n",
    "    for i in range(NUM_PUNTI):\n",
    "        angle = 2 * math.pi * i / NUM_PUNTI\n",
    "        if angle >= min_angle and angle <= max_angle:\n",
    "            x = CENTRO_X + radius * math.cos(angle)\n",
    "            y = CENTRO_Y + radius * math.sin(angle)\n",
    "            for limit_x, limit_y in greater_limits:\n",
    "                if x > limit_x and y < limit_y:\n",
    "                    x = limit_x\n",
    "            for limit_x, limit_y in lower_limits:\n",
    "                if x < limit_x and y < limit_y:\n",
    "                    x = limit_x\n",
    "            if x >= 0 and y >= 0:\n",
    "                points.append((round(x,2), round(y,2)))\n",
    "    return points\n",
    "\n",
    "def create_rows(id, points):\n",
    "\n",
    "    rows = []\n",
    "    i = 0\n",
    "    for x, y in points: \n",
    "        rows.append((id, 'polygon', '', i, x, y, ''))\n",
    "        i += 1\n",
    "    return rows"
   ]
  },
  {
   "cell_type": "code",
   "execution_count": 2,
   "metadata": {},
   "outputs": [],
   "source": [
    "# polygon 0: central\n",
    "polygon_central = retrieve_points(radius=245, min_angle=0, max_angle=math.pi, greater_limits=[(505, 157.5),(995,  157.5)])\n",
    "polygon_central = polygon_central + [(505,0), (995, 0)]\n",
    "polygon_central = create_rows(0, polygon_central)"
   ]
  },
  {
   "cell_type": "code",
   "execution_count": 3,
   "metadata": {},
   "outputs": [],
   "source": [
    "# polygon 1: mid range sx\n",
    "min_angle = math.pi*5/6\n",
    "max_angle = math.pi\n",
    "radius=675\n",
    "external_points = retrieve_points(radius=radius, min_angle=min_angle, max_angle=max_angle, lower_limits=[(94, 310)])\n",
    "\n",
    "# append point\n",
    "x = CENTRO_X + radius * math.cos(min_angle)\n",
    "y = CENTRO_Y + radius * math.sin(min_angle)\n",
    "external_points = [(round(x,2), round(y,2))] + external_points + [(94,0),(505, 0)]\n",
    "\n",
    "radius=245\n",
    "internal_points = retrieve_points(radius=radius, min_angle=min_angle, max_angle=max_angle, lower_limits=[(505, 157.5)])\n",
    "internal_points = list(reversed(internal_points))\n",
    "points = external_points + internal_points\n",
    "\n",
    "polygon_mid_range_sx = create_rows(1, points)\n"
   ]
  },
  {
   "cell_type": "code",
   "execution_count": 4,
   "metadata": {},
   "outputs": [],
   "source": [
    "# polygon 2: mid range central sx\n",
    "min_angle = math.pi/2\n",
    "max_angle = math.pi*5/6\n",
    "radius=675\n",
    "external_points = retrieve_points(radius=radius, min_angle=min_angle, max_angle=max_angle)\n",
    "\n",
    "# append point with 90° angle\n",
    "x = CENTRO_X + radius * math.cos(min_angle)\n",
    "y = CENTRO_Y + radius * math.sin(min_angle)\n",
    "external_points = [(round(x,2), round(y,2))] + external_points\n",
    "\n",
    "radius=245\n",
    "# append point with 90° angle\n",
    "x = CENTRO_X + radius * math.cos(max_angle)\n",
    "y = CENTRO_Y + radius * math.sin(max_angle)\n",
    "internal_points = [(round(x,2), round(y,2))] + internal_points\n",
    "internal_points = retrieve_points(radius=radius, min_angle=min_angle, max_angle=max_angle)\n",
    "internal_points = list(reversed(internal_points))\n",
    "\n",
    "points = external_points + internal_points\n",
    "polygon_central_mid_range_sx = create_rows(2, points)\n"
   ]
  },
  {
   "cell_type": "code",
   "execution_count": 5,
   "metadata": {},
   "outputs": [],
   "source": [
    "# polygon 3: mid range central dx\n",
    "min_angle = 0.5236\n",
    "max_angle = math.pi/2\n",
    "radius=675\n",
    "external_points = retrieve_points(radius=radius, min_angle=min_angle, max_angle=max_angle)\n",
    "\n",
    "# append point with 90° angle\n",
    "x = CENTRO_X + radius * math.cos(max_angle)\n",
    "y = CENTRO_Y + radius * math.sin(max_angle)\n",
    "external_points.append((round(x,2), round(y,2)))\n",
    "\n",
    "radius=245\n",
    "internal_points = retrieve_points(radius=radius, min_angle=min_angle, max_angle=max_angle)\n",
    "\n",
    "# append point with 90° angle\n",
    "x = CENTRO_X + radius * math.cos(max_angle)\n",
    "y = CENTRO_Y + radius * math.sin(max_angle)\n",
    "internal_points.append((round(x,2), round(y,2)))\n",
    "\n",
    "internal_points = list(reversed(internal_points))\n",
    "points = external_points + internal_points\n",
    "\n",
    "polygon_central_mid_range_dx = create_rows(3, points)\n"
   ]
  },
  {
   "cell_type": "code",
   "execution_count": 6,
   "metadata": {},
   "outputs": [],
   "source": [
    "# polygon 4: mid range dx\n",
    "max_angle = 0.5236\n",
    "radius=675\n",
    "external_points = retrieve_points(radius=radius, min_angle=0, max_angle=max_angle, greater_limits=[(1406, 310)])\n",
    "\n",
    "# append point with 30° angle (0.5236)\n",
    "x = CENTRO_X + radius * math.cos(max_angle)\n",
    "y = CENTRO_Y + radius * math.sin(max_angle)\n",
    "external_points.append((round(x,2), round(y,2)))\n",
    "\n",
    "internal_points = retrieve_points(radius=245, min_angle=0, max_angle=max_angle, greater_limits=[(995,  157.5)])\n",
    "internal_points = list(reversed(internal_points))\n",
    "points = external_points + internal_points + [(995,0),(1406, 0)]\n",
    "\n",
    "polygon_mid_range_dx = create_rows(4, points)\n"
   ]
  },
  {
   "cell_type": "code",
   "execution_count": 7,
   "metadata": {},
   "outputs": [],
   "source": [
    "# polygon 5: long range sx\n",
    "min_angle = math.pi*5/6\n",
    "max_angle = math.pi\n",
    "radius=675\n",
    "points = retrieve_points(radius=radius, min_angle=min_angle, max_angle=max_angle, lower_limits=[(94, 310)])\n",
    "\n",
    "# append point with min angle\n",
    "x = CENTRO_X + radius * math.cos(min_angle)\n",
    "y = CENTRO_Y + radius * math.sin(min_angle)\n",
    "points =  [(round(x,2), round(y,2))] + points\n",
    "\n",
    "max_value = max(points, key=lambda point: point[1])\n",
    "y = max_value[1] + (max_value[0] * -math.tan(min_angle))\n",
    "points = points + [(94, 0), (0, 0), (0, y)]\n",
    "\n",
    "polygon_long_range_sx = create_rows(5, points)"
   ]
  },
  {
   "cell_type": "code",
   "execution_count": 8,
   "metadata": {},
   "outputs": [],
   "source": [
    "# polygon 6: long range central sx\n",
    "min_angle = math.pi*1/2\n",
    "max_angle = math.pi*5/6\n",
    "radius=675\n",
    "points = retrieve_points(radius=radius, min_angle=min_angle, max_angle=max_angle)\n",
    "\n",
    "# append point with min angle\n",
    "x = CENTRO_X + radius * math.cos(min_angle)\n",
    "y = CENTRO_Y + radius * math.sin(min_angle)\n",
    "points =  [(round(x,2), round(y,2))] + points\n",
    "\n",
    "min_value = min(points, key=lambda point: point[1])\n",
    "y = min_value[1] + (min_value[0] * -math.tan(max_angle))\n",
    "points = points + [(0, y), (0, 1400), (750, 1400)]\n",
    "\n",
    "polygon_long_range_central_sx = create_rows(6, points)"
   ]
  },
  {
   "cell_type": "code",
   "execution_count": 9,
   "metadata": {},
   "outputs": [],
   "source": [
    "# polygon 7: long range central dx\n",
    "min_angle = math.pi*1/6\n",
    "max_angle = math.pi*1/2\n",
    "radius=675\n",
    "points = retrieve_points(radius=radius, min_angle=min_angle, max_angle=max_angle)\n",
    "\n",
    "# append point with min angle\n",
    "x = CENTRO_X + radius * math.cos(min_angle)\n",
    "y = CENTRO_Y + radius * math.sin(min_angle)\n",
    "points =  [(round(x,2), round(y,2))] + points\n",
    "\n",
    "min_value = min(points, key=lambda point: point[1])\n",
    "y = min_value[1] +((1500 - min_value[0]) * math.tan(min_angle))\n",
    "points = points + [(750, 1400), (1500, 1400), (1500, y)]\n",
    "\n",
    "polygon_long_range_central_dx = create_rows(7, points)"
   ]
  },
  {
   "cell_type": "code",
   "execution_count": 10,
   "metadata": {},
   "outputs": [],
   "source": [
    "# polygon 8: long range dx\n",
    "min_angle = 0\n",
    "max_angle = math.pi*1/6\n",
    "radius=675\n",
    "points = retrieve_points(radius=radius, min_angle=min_angle, max_angle=max_angle, greater_limits=[(1406, 310)])\n",
    "\n",
    "# append point with max angle\n",
    "x = CENTRO_X + radius * math.cos(max_angle)\n",
    "y = CENTRO_Y + radius * math.sin(max_angle)\n",
    "points =  points + [(round(x,2), round(y,2))]\n",
    "\n",
    "max_value = max(points, key=lambda point: point[1])\n",
    "y = max_value[1] +((1500 - max_value[0]) * math.tan(max_angle))\n",
    "points = [(1500, y), (1500, 0), (1406, 0)] + points\n",
    "polygon_long_range_dx = create_rows(8, points)"
   ]
  },
  {
   "cell_type": "code",
   "execution_count": 11,
   "metadata": {},
   "outputs": [],
   "source": [
    "polygons = polygon_central + polygon_mid_range_dx + polygon_central_mid_range_dx + polygon_central_mid_range_sx + \\\n",
    "    polygon_mid_range_sx + polygon_long_range_dx + polygon_long_range_central_dx + polygon_long_range_central_sx + polygon_long_range_sx\n",
    "df = pd.DataFrame(polygons, columns=['shapeId','shapeType','shapeLabel','pointId','pointX','pointY','source'])\n",
    "df.to_csv('../csvs_notebooks/polygons.csv', sep=',', index=False)"
   ]
  },
  {
   "cell_type": "code",
   "execution_count": null,
   "metadata": {},
   "outputs": [],
   "source": []
  }
 ],
 "metadata": {
  "kernelspec": {
   "display_name": "BasketballScrapeR",
   "language": "python",
   "name": "python3"
  },
  "language_info": {
   "codemirror_mode": {
    "name": "ipython",
    "version": 3
   },
   "file_extension": ".py",
   "mimetype": "text/x-python",
   "name": "python",
   "nbconvert_exporter": "python",
   "pygments_lexer": "ipython3",
   "version": "3.9.18"
  }
 },
 "nbformat": 4,
 "nbformat_minor": 2
}
