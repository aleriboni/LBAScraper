{
 "cells": [
  {
   "cell_type": "markdown",
   "metadata": {},
   "source": [
    "Questo notebook associa ad ogni tiro presente nel pbp la posizione di tiro in base ai poligoni definiti dal notebook create_poligons"
   ]
  },
  {
   "cell_type": "code",
   "execution_count": 2,
   "metadata": {},
   "outputs": [],
   "source": [
    "from shapely.geometry import Point, Polygon\n",
    "import pandas as pd\n",
    "\n",
    "shot_map_name = 'shot_map'\n",
    "\n",
    "df = pd.read_csv('../csvs_notebooks/polygons.csv')\n",
    "df_shot_map = pd.read_csv('../csvs_notebooks/' + shot_map_name + '.csv')"
   ]
  },
  {
   "cell_type": "code",
   "execution_count": 3,
   "metadata": {},
   "outputs": [],
   "source": [
    "# retrieve dictionary with polygons\n",
    "polygons = {}\n",
    "\n",
    "polygon_ids = set(df.shapeId)\n",
    "for polygon_id in polygon_ids:\n",
    "    df_temp = df[df.shapeId == polygon_id]\n",
    "    points = list(zip(df_temp.pointX, df_temp.pointY))\n",
    "    polygons.update({polygon_id:points})"
   ]
  },
  {
   "cell_type": "code",
   "execution_count": 4,
   "metadata": {},
   "outputs": [],
   "source": [
    "def retrieve_polygon_id(row):\n",
    "    \"\"\"\n",
    "    function to retrieve the polygon of the point\n",
    "    \"\"\"\n",
    "    p = Point(row['xx'], row['yy'])\n",
    "    for key, value in polygons.items():\n",
    "        poly = Polygon(value)\n",
    "        if poly.contains(p) or poly.touches(p):\n",
    "            return key\n",
    "    return -1"
   ]
  },
  {
   "cell_type": "code",
   "execution_count": 5,
   "metadata": {},
   "outputs": [],
   "source": [
    "df_shot_map['sector_id'] = df_shot_map.apply(lambda row: retrieve_polygon_id(row), axis=1)"
   ]
  },
  {
   "cell_type": "code",
   "execution_count": 6,
   "metadata": {},
   "outputs": [
    {
     "data": {
      "text/plain": [
       "sector_id\n",
       "0    415\n",
       "1      9\n",
       "2     61\n",
       "3     83\n",
       "4     33\n",
       "5     22\n",
       "6    134\n",
       "7    131\n",
       "8     30\n",
       "Name: sector_id, dtype: int64"
      ]
     },
     "execution_count": 6,
     "metadata": {},
     "output_type": "execute_result"
    }
   ],
   "source": [
    "df_shot_map.groupby(['sector_id'])['sector_id'].count()"
   ]
  },
  {
   "cell_type": "code",
   "execution_count": 8,
   "metadata": {},
   "outputs": [],
   "source": [
    "df_shot_map['sector_id'] = df_shot_map['sector_id'].astype(int)\n",
    "df_shot_map.to_csv('../csvs_notebooks/' + shot_map_name + '_with_sector_id.csv')"
   ]
  }
 ],
 "metadata": {
  "kernelspec": {
   "display_name": "BasketballScrapeR",
   "language": "python",
   "name": "python3"
  },
  "language_info": {
   "codemirror_mode": {
    "name": "ipython",
    "version": 3
   },
   "file_extension": ".py",
   "mimetype": "text/x-python",
   "name": "python",
   "nbconvert_exporter": "python",
   "pygments_lexer": "ipython3",
   "version": "3.9.18"
  }
 },
 "nbformat": 4,
 "nbformat_minor": 2
}
